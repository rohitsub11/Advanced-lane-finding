{
 "cells": [
  {
   "cell_type": "markdown",
   "metadata": {},
   "source": [
    "##Overview##\n",
    "\n",
    "This project is to find the lanes from the video taken from the camera attached to the car using advanced and effective image processing methods.\n",
    "\n",
    "The raw data can be found from https://github.com/udacity/CarND-Advanced-Lane-Lines\n",
    "\n",
    "Below is the summary of the process of the project.\n",
    "1. Calibrate the image and perform image distortion correction on the given chessboard images.\n",
    "1. Perform color and gradient transformation to create a thresholded binary image.\n",
    "1. Apply a birds eye view perspective transform to view the lines as parallel lines.\n",
    "1. Detect lane pixels and fit to find the lane boundary.\n",
    "1. Determine the curvature of the lane and vehicle position with respect to center.\n",
    "1. Warp the detected lane boundaries back onto the original image.\n",
    "1. Output visual display of the lane boundaries and numerical estimation of lane curvature and vehicle position."
   ]
  },
  {
   "cell_type": "code",
   "execution_count": null,
   "metadata": {
    "collapsed": true
   },
   "outputs": [],
   "source": [
    "\"\"\"\n",
    "Import all necessary packages\n",
    "\"\"\"\n",
    "import numpy as np\n",
    "import cv2\n",
    "import matplotlib.pyplot as plt\n",
    "import matplotlib.image as mpimg"
   ]
  },
  {
   "cell_type": "code",
   "execution_count": null,
   "metadata": {
    "collapsed": true
   },
   "outputs": [],
   "source": [
    "# prepare object points\n",
    "nx = 9#The number of inside corners in x\n",
    "ny = 6#The number of inside corners in y"
   ]
  }
 ],
 "metadata": {
  "kernelspec": {
   "display_name": "Python 3",
   "language": "python",
   "name": "python3"
  },
  "language_info": {
   "codemirror_mode": {
    "name": "ipython",
    "version": 3
   },
   "file_extension": ".py",
   "mimetype": "text/x-python",
   "name": "python",
   "nbconvert_exporter": "python",
   "pygments_lexer": "ipython3",
   "version": "3.5.2"
  },
  "widgets": {
   "state": {},
   "version": "1.1.2"
  }
 },
 "nbformat": 4,
 "nbformat_minor": 2
}
